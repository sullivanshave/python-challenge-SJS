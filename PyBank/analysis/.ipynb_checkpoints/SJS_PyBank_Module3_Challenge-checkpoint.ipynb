{
 "cells": [
  {
   "cell_type": "code",
   "execution_count": 1,
   "id": "ec555b5d",
   "metadata": {},
   "outputs": [],
   "source": [
    "import pandas as pd\n",
    "import os\n",
    "import csv"
   ]
  },
  {
   "cell_type": "code",
   "execution_count": 3,
   "id": "6a7460ab",
   "metadata": {},
   "outputs": [
    {
     "name": "stdout",
     "output_type": "stream",
     "text": [
      "Financial Analysis\n",
      "----------------------------\n",
      "Total Months: 86\n",
      "Total: $22564198\n",
      "Average Change: -8311.105882352942\n",
      "Greatest Increase in Profits: Aug-16 1862002\n",
      "Greatest Decrease in Profits: Feb-14 -1825558\n"
     ]
    }
   ],
   "source": [
    "# create a path to the budget data and the output to txt file\n",
    "\n",
    "csvpath = os.path.join(\"../Resources/budget_data.csv\")\n",
    "csvoutput = os.path.join(\"SJS_output.txt\")\n",
    "\n",
    "# define the variables that we will use to calculate the financial analysis\n",
    "\n",
    "total_months = 0\n",
    "net_total_amount = 0\n",
    "average_change = 0\n",
    "net_change_list = []\n",
    "months = []\n",
    "greatest_increase=[\"\",-1000]\n",
    "greatest_decrease = [\"\", 999999]\n",
    "with open(csvpath) as csvfile:\n",
    "    csvreader = csv.reader(csvfile, delimiter = \",\")\n",
    "    csv_headers = next(csvreader)\n",
    "#     print(csv_headers)\n",
    "#     print(next(csvreader))\n",
    "   \n",
    "    total_months += 1\n",
    "    first_row = next(csvreader)\n",
    "    prev = int(first_row[1])\n",
    "    net_total_amount += int(first_row[1])\n",
    "    for x in csvreader:\n",
    "        months.append(x[0])\n",
    "        total_months += 1\n",
    "        net_total_amount += int(x[1])\n",
    "        net_change = int(x[1]) - prev\n",
    "        net_change_list.append(net_change)\n",
    "        prev = int(x[1])\n",
    "        if net_change > greatest_increase[1]:\n",
    "            greatest_increase[0]=x[0]\n",
    "            greatest_increase[1]=net_change\n",
    "        if net_change < greatest_decrease[1]:\n",
    "            greatest_decrease[0]=x[0]\n",
    "            greatest_decrease[1]=net_change\n",
    "    average_change = sum(net_change_list) / len(net_change_list)\n",
    "    \n",
    "    \n",
    "# write our results to a txt file\n",
    "\n",
    "    file = open(\"SJS_output.txt\", \"w\")\n",
    "    \n",
    "    file.write(\"Financial Analysis \\n\"\n",
    "               f\"---------------------------- \\n\"\n",
    "               f\"Total Months: {total_months} \\n\"\n",
    "               f\"Total: ${net_total_amount} \\n\"\n",
    "               f\"Average Change: {str(average_change)} \\n\"\n",
    "               f\"Greatest Increase in Profits: {greatest_increase[0]} {greatest_increase[1]} \\n\"\n",
    "               f\"Greatest Decrease in Profits: {greatest_decrease[0]} {greatest_decrease[1]}\")\n",
    "    \n",
    "    file.close()\n",
    "    \n",
    " # print our results  \n",
    "\n",
    "    print(\"Financial Analysis\")\n",
    "    print(f\"----------------------------\")\n",
    "    print(f\"Total Months: {total_months}\")\n",
    "    print(f\"Total: ${net_total_amount}\")\n",
    "    print(f\"Average Change: {str(average_change)}\")\n",
    "    print(f\"Greatest Increase in Profits: {greatest_increase[0]} {greatest_increase[1]}\")\n",
    "    print(f\"Greatest Decrease in Profits: {greatest_decrease[0]} {greatest_decrease[1]}\")\n",
    "    \n",
    "    \n",
    "    "
   ]
  },
  {
   "cell_type": "code",
   "execution_count": null,
   "id": "b7eed6c3",
   "metadata": {},
   "outputs": [],
   "source": []
  }
 ],
 "metadata": {
  "kernelspec": {
   "display_name": "Python 3 (ipykernel)",
   "language": "python",
   "name": "python3"
  },
  "language_info": {
   "codemirror_mode": {
    "name": "ipython",
    "version": 3
   },
   "file_extension": ".py",
   "mimetype": "text/x-python",
   "name": "python",
   "nbconvert_exporter": "python",
   "pygments_lexer": "ipython3",
   "version": "3.10.9"
  }
 },
 "nbformat": 4,
 "nbformat_minor": 5
}
