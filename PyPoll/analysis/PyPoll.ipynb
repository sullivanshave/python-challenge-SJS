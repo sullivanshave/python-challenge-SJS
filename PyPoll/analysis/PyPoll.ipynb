{
 "cells": [
  {
   "cell_type": "code",
   "execution_count": 1,
   "id": "78f12c78",
   "metadata": {},
   "outputs": [],
   "source": [
    "import pandas as pd\n",
    "import os\n",
    "import csv"
   ]
  },
  {
   "cell_type": "code",
   "execution_count": 5,
   "id": "e213a22b",
   "metadata": {},
   "outputs": [],
   "source": [
    "total_number_of_votes = 0\n",
    "complete_list_of_candidates = []\n",
    "vote_count = {}\n",
    "individual_votes = []\n",
    "\n",
    "csvpath = os.path.join(\"election_data.csv\")\n",
    "\n",
    "with open(csvpath) as csvfile:\n",
    "    csvreader = csv.reader(csvfile, delimiter = \",\")\n",
    "    csv_headers = next(csvreader)\n",
    "    \n",
    "    for x in csvreader:\n",
    "        \n",
    "        total_number_of_votes += 1\n",
    "        \n",
    "        name = x[2]\n",
    "        \n",
    "        if name not in complete_list_of_candidates:\n",
    "            \n",
    "            complete_list_of_candidates.append(name)\n",
    "            \n",
    "            vote_count[name] = 1\n",
    "            \n",
    "        else:\n",
    "            \n",
    "            vote_count[name] += 1\n",
    "            \n",
    "    #for k,v in vote_count.items():\n",
    "        \n",
    "            "
   ]
  },
  {
   "cell_type": "code",
   "execution_count": 6,
   "id": "1a628cd1",
   "metadata": {},
   "outputs": [
    {
     "data": {
      "text/plain": [
       "{'Charles Casper Stockham': 85213,\n",
       " 'Diana DeGette': 272892,\n",
       " 'Raymon Anthony Doane': 11606}"
      ]
     },
     "execution_count": 6,
     "metadata": {},
     "output_type": "execute_result"
    }
   ],
   "source": [
    "vote_count"
   ]
  },
  {
   "cell_type": "code",
   "execution_count": 7,
   "id": "e9e28c16",
   "metadata": {},
   "outputs": [
    {
     "data": {
      "text/plain": [
       "['Charles Casper Stockham', 'Diana DeGette', 'Raymon Anthony Doane']"
      ]
     },
     "execution_count": 7,
     "metadata": {},
     "output_type": "execute_result"
    }
   ],
   "source": [
    "complete_list_of_candidates"
   ]
  },
  {
   "cell_type": "code",
   "execution_count": 8,
   "id": "6393f02c",
   "metadata": {},
   "outputs": [
    {
     "data": {
      "text/plain": [
       "369711"
      ]
     },
     "execution_count": 8,
     "metadata": {},
     "output_type": "execute_result"
    }
   ],
   "source": [
    "total_number_of_votes"
   ]
  },
  {
   "cell_type": "code",
   "execution_count": 9,
   "id": "7f9b46db",
   "metadata": {},
   "outputs": [
    {
     "name": "stdout",
     "output_type": "stream",
     "text": [
      "Percentage for Charles Casper Stockham is %23.05\n",
      "Percentage for Diana DeGette is %73.81\n",
      "Percentage for Raymon Anthony Doane is %3.14\n"
     ]
    }
   ],
   "source": [
    "for k,v in vote_count.items():\n",
    "    print(f\"Percentage for {k} is %{round(v/total_number_of_votes*100,2)}\")"
   ]
  },
  {
   "cell_type": "code",
   "execution_count": 10,
   "id": "ff1de3f4",
   "metadata": {},
   "outputs": [
    {
     "name": "stdout",
     "output_type": "stream",
     "text": [
      "total number of votes this candidate won is: Charles Casper Stockham, 85213\n",
      "total number of votes this candidate won is: Diana DeGette, 272892\n",
      "total number of votes this candidate won is: Raymon Anthony Doane, 11606\n"
     ]
    }
   ],
   "source": [
    "for k,v in vote_count.items():\n",
    "    print(f\"total number of votes this candidate won is: {k}, {v}\")"
   ]
  },
  {
   "cell_type": "code",
   "execution_count": 12,
   "id": "78f0dcfb",
   "metadata": {},
   "outputs": [
    {
     "name": "stdout",
     "output_type": "stream",
     "text": [
      "Diana DeGette has the most votes at 272892\n"
     ]
    }
   ],
   "source": [
    "max_votes = 0\n",
    "\n",
    "for k,v in vote_count.items():\n",
    "    if max_votes < v:\n",
    "        max_votes = v\n",
    "        name = k\n",
    "    \n",
    "\n",
    "print(f\"{name} has the most votes at {max_votes}\")"
   ]
  },
  {
   "cell_type": "markdown",
   "id": "c71fe74c",
   "metadata": {},
   "source": [
    "# Results"
   ]
  },
  {
   "cell_type": "code",
   "execution_count": 13,
   "id": "6f588212",
   "metadata": {},
   "outputs": [
    {
     "name": "stdout",
     "output_type": "stream",
     "text": [
      "Election Results\n",
      "-------------------------\n",
      "Total Votes: 369711\n",
      "-------------------------\n",
      "Charles Casper Stockham: 85213 (%23.05)\n",
      "Diana DeGette: 272892 (%73.81)\n",
      "Raymon Anthony Doane: 11606 (%3.14)\n",
      "-------------------------\n",
      "Winner: Diana DeGette \n",
      "-------------------------\n"
     ]
    }
   ],
   "source": [
    "print(\"Election Results\")\n",
    "print(\"-------------------------\")\n",
    "print(f\"Total Votes: {total_number_of_votes}\")\n",
    "print(\"-------------------------\")\n",
    "print(f\"Charles Casper Stockham: {vote_count['Charles Casper Stockham']} (%{round(vote_count['Charles Casper Stockham']/total_number_of_votes*100,2)})\")\n",
    "print(f\"Diana DeGette: {vote_count['Diana DeGette']} (%{round(vote_count['Diana DeGette']/total_number_of_votes*100,2)})\")\n",
    "print(f\"Raymon Anthony Doane: {vote_count['Raymon Anthony Doane']} (%{round(vote_count['Raymon Anthony Doane']/total_number_of_votes*100,2)})\")\n",
    "print(\"-------------------------\")\n",
    "print(f\"Winner: {name} \")\n",
    "print(\"-------------------------\")"
   ]
  },
  {
   "cell_type": "markdown",
   "id": "169dd3e9",
   "metadata": {},
   "source": [
    "# Printing to txt file"
   ]
  },
  {
   "cell_type": "code",
   "execution_count": null,
   "id": "2d4da477",
   "metadata": {},
   "outputs": [],
   "source": []
  }
 ],
 "metadata": {
  "kernelspec": {
   "display_name": "Python 3 (ipykernel)",
   "language": "python",
   "name": "python3"
  },
  "language_info": {
   "codemirror_mode": {
    "name": "ipython",
    "version": 3
   },
   "file_extension": ".py",
   "mimetype": "text/x-python",
   "name": "python",
   "nbconvert_exporter": "python",
   "pygments_lexer": "ipython3",
   "version": "3.10.9"
  }
 },
 "nbformat": 4,
 "nbformat_minor": 5
}
