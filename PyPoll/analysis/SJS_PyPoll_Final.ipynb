{
 "cells": [
  {
   "cell_type": "code",
   "execution_count": 1,
   "metadata": {},
   "outputs": [],
   "source": [
    "import pandas as pd\n",
    "import os\n",
    "import csv"
   ]
  },
  {
   "cell_type": "code",
   "execution_count": 18,
   "metadata": {},
   "outputs": [],
   "source": [
    "total_number_of_votes = 0\n",
    "complete_list_of_candidates = []\n",
    "vote_count = {}\n",
    "individual_votes = []\n",
    "\n",
    "csvpath = os.path.join(\"/Users/sully/Desktop/election_data copy.csv\")\n",
    "\n",
    "with open(csvpath) as csvfile:\n",
    "    csvreader = csv.reader(csvfile, delimiter = \",\")\n",
    "    csv_headers = next(csvreader)\n",
    "    \n",
    "    for x in csvreader:\n",
    "        \n",
    "        total_number_of_votes += 1\n",
    "        \n",
    "        name = x[2]\n",
    "        \n",
    "        if name not in complete_list_of_candidates:\n",
    "            \n",
    "            complete_list_of_candidates.append(name)\n",
    "            \n",
    "            vote_count[name] = 1\n",
    "            \n",
    "        else:\n",
    "            \n",
    "            vote_count[name] += 1\n",
    "            \n",
    "    #for k,v in vote_count.items():\n",
    "        \n",
    "            "
   ]
  },
  {
   "cell_type": "code",
   "execution_count": 19,
   "metadata": {},
   "outputs": [
    {
     "data": {
      "text/plain": [
       "{'Charles Casper Stockham': 85213,\n",
       " 'Diana DeGette': 272892,\n",
       " 'Raymon Anthony Doane': 11606}"
      ]
     },
     "execution_count": 19,
     "metadata": {},
     "output_type": "execute_result"
    }
   ],
   "source": [
    "vote_count"
   ]
  },
  {
   "cell_type": "code",
   "execution_count": 20,
   "metadata": {},
   "outputs": [
    {
     "data": {
      "text/plain": [
       "[]"
      ]
     },
     "execution_count": 20,
     "metadata": {},
     "output_type": "execute_result"
    }
   ],
   "source": [
    "individual_votes"
   ]
  },
  {
   "cell_type": "code",
   "execution_count": 21,
   "metadata": {},
   "outputs": [
    {
     "data": {
      "text/plain": [
       "['Charles Casper Stockham', 'Diana DeGette', 'Raymon Anthony Doane']"
      ]
     },
     "execution_count": 21,
     "metadata": {},
     "output_type": "execute_result"
    }
   ],
   "source": [
    "complete_list_of_candidates"
   ]
  },
  {
   "cell_type": "code",
   "execution_count": 22,
   "metadata": {},
   "outputs": [
    {
     "data": {
      "text/plain": [
       "369711"
      ]
     },
     "execution_count": 22,
     "metadata": {},
     "output_type": "execute_result"
    }
   ],
   "source": [
    "total_number_of_votes"
   ]
  },
  {
   "cell_type": "code",
   "execution_count": 23,
   "metadata": {},
   "outputs": [
    {
     "name": "stdout",
     "output_type": "stream",
     "text": [
      "Percentage for Charles Casper Stockham is %23.05\n",
      "Percentage for Diana DeGette is %73.81\n",
      "Percentage for Raymon Anthony Doane is %3.14\n"
     ]
    }
   ],
   "source": [
    "for k,v in vote_count.items():\n",
    "    print(f\"Percentage for {k} is %{round(v/total_number_of_votes*100,2)}\")"
   ]
  },
  {
   "cell_type": "code",
   "execution_count": 24,
   "metadata": {},
   "outputs": [
    {
     "name": "stdout",
     "output_type": "stream",
     "text": [
      "total number of votes each candidate won is: for name Charles Casper Stockham and number of votes 85213\n",
      "total number of votes each candidate won is: for name Diana DeGette and number of votes 272892\n",
      "total number of votes each candidate won is: for name Raymon Anthony Doane and number of votes 11606\n"
     ]
    }
   ],
   "source": [
    "for k,v in vote_count.items():\n",
    "    print(f\"total number of votes each candidate won is: for name {k} and number of votes {v}\")"
   ]
  },
  {
   "cell_type": "code",
   "execution_count": 25,
   "metadata": {},
   "outputs": [
    {
     "name": "stdout",
     "output_type": "stream",
     "text": [
      "name Diana DeGette and popular vote 272892\n"
     ]
    }
   ],
   "source": [
    "max_votes = 0\n",
    "\n",
    "for k,v in vote_count.items():\n",
    "    if max_votes < v:\n",
    "        max_votes = v\n",
    "        name = k\n",
    "    \n",
    "\n",
    "print(f\"name {name} and popular vote {max_votes}\")\n"
   ]
  },
  {
   "cell_type": "markdown",
   "metadata": {},
   "source": [
    "# Results"
   ]
  },
  {
   "cell_type": "code",
   "execution_count": 63,
   "metadata": {},
   "outputs": [
    {
     "name": "stdout",
     "output_type": "stream",
     "text": [
      "Election Results\n",
      "-------------------------\n",
      "Total Votes: 369711\n",
      "-------------------------\n",
      "Charles Casper Stockham: 85213 (%23.05)\n",
      "Diana DeGette: 272892 (%73.81)\n",
      "Raymon Anthony Doane: 11606 (%3.14)\n",
      "-------------------------\n",
      "Winner: Diana DeGette \n",
      "-------------------------\n"
     ]
    }
   ],
   "source": [
    "print(\"Election Results\")\n",
    "print(\"-------------------------\")\n",
    "print(f\"Total Votes: {total_number_of_votes}\")\n",
    "print(\"-------------------------\")\n",
    "print(f\"Charles Casper Stockham: {vote_count['Charles Casper Stockham']} (%{round(vote_count['Charles Casper Stockham']/total_number_of_votes*100,2)})\")\n",
    "print(f\"Diana DeGette: {vote_count['Diana DeGette']} (%{round(vote_count['Diana DeGette']/total_number_of_votes*100,2)})\")\n",
    "print(f\"Raymon Anthony Doane: {vote_count['Raymon Anthony Doane']} (%{round(vote_count['Raymon Anthony Doane']/total_number_of_votes*100,2)})\")\n",
    "print(\"-------------------------\")\n",
    "print(f\"Winner: {name} \")\n",
    "print(\"-------------------------\")"
   ]
  },
  {
   "cell_type": "markdown",
   "metadata": {},
   "source": [
    "# Write Results to txt file"
   ]
  },
  {
   "cell_type": "code",
   "execution_count": 64,
   "metadata": {},
   "outputs": [
    {
     "ename": "OSError",
     "evalue": "[Errno 30] Read-only file system: 'SJS_PyPoll_output.txt'",
     "output_type": "error",
     "traceback": [
      "\u001b[0;31m---------------------------------------------------------------------------\u001b[0m",
      "\u001b[0;31mOSError\u001b[0m                                   Traceback (most recent call last)",
      "\u001b[1;32mUntitled-1.ipynb Cell 13\u001b[0m in \u001b[0;36m<cell line: 1>\u001b[0;34m()\u001b[0m\n\u001b[0;32m----> <a href='vscode-notebook-cell:Untitled-1.ipynb?jupyter-notebook#X20sdW50aXRsZWQ%3D?line=0'>1</a>\u001b[0m file \u001b[39m=\u001b[39m \u001b[39mopen\u001b[39;49m(\u001b[39m\"\u001b[39;49m\u001b[39mSJS_PyPoll_output.txt\u001b[39;49m\u001b[39m\"\u001b[39;49m, \u001b[39m\"\u001b[39;49m\u001b[39mw\u001b[39;49m\u001b[39m\"\u001b[39;49m)\n\u001b[1;32m      <a href='vscode-notebook-cell:Untitled-1.ipynb?jupyter-notebook#X20sdW50aXRsZWQ%3D?line=2'>3</a>\u001b[0m file\u001b[39m.\u001b[39mwrite(\u001b[39m\"\u001b[39m\u001b[39mElection Results \u001b[39m\u001b[39m\\n\u001b[39;00m\u001b[39m\"\u001b[39m\n\u001b[1;32m      <a href='vscode-notebook-cell:Untitled-1.ipynb?jupyter-notebook#X20sdW50aXRsZWQ%3D?line=3'>4</a>\u001b[0m            \u001b[39mf\u001b[39m\u001b[39m\"\u001b[39m\u001b[39m------------------------- \u001b[39m\u001b[39m\\n\u001b[39;00m\u001b[39m\"\u001b[39m\n\u001b[1;32m      <a href='vscode-notebook-cell:Untitled-1.ipynb?jupyter-notebook#X20sdW50aXRsZWQ%3D?line=4'>5</a>\u001b[0m            \u001b[39mf\u001b[39m\u001b[39m\"\u001b[39m\u001b[39mTotal Votes: \u001b[39m\u001b[39m{\u001b[39;00mtotal_number_of_votes\u001b[39m}\u001b[39;00m\u001b[39m \u001b[39m\u001b[39m\\n\u001b[39;00m\u001b[39m\"\u001b[39m\n\u001b[0;32m   (...)\u001b[0m\n\u001b[1;32m     <a href='vscode-notebook-cell:Untitled-1.ipynb?jupyter-notebook#X20sdW50aXRsZWQ%3D?line=10'>11</a>\u001b[0m            \u001b[39mf\u001b[39m\u001b[39m\"\u001b[39m\u001b[39mWinner: \u001b[39m\u001b[39m{\u001b[39;00mname\u001b[39m}\u001b[39;00m\u001b[39m  \u001b[39m\u001b[39m\\n\u001b[39;00m\u001b[39m\"\u001b[39m\n\u001b[1;32m     <a href='vscode-notebook-cell:Untitled-1.ipynb?jupyter-notebook#X20sdW50aXRsZWQ%3D?line=11'>12</a>\u001b[0m            \u001b[39mf\u001b[39m\u001b[39m\"\u001b[39m\u001b[39m------------------------- \u001b[39m\u001b[39m\\n\u001b[39;00m\u001b[39m\"\u001b[39m)\n\u001b[1;32m     <a href='vscode-notebook-cell:Untitled-1.ipynb?jupyter-notebook#X20sdW50aXRsZWQ%3D?line=14'>15</a>\u001b[0m file\u001b[39m.\u001b[39mclose()\n",
      "\u001b[0;31mOSError\u001b[0m: [Errno 30] Read-only file system: 'SJS_PyPoll_output.txt'"
     ]
    }
   ],
   "source": [
    "file = open(\"SJS_PyPoll_output.txt\", \"w\")\n",
    "    \n",
    "file.write(\"Election Results \\n\"\n",
    "           f\"------------------------- \\n\"\n",
    "           f\"Total Votes: {total_number_of_votes} \\n\"\n",
    "           f\"------------------------- \\n\"\n",
    "           f\"Charles Casper Stockham: {vote_count['Charles Casper Stockham']} (%{round(vote_count['Charles Casper Stockham']/total_number_of_votes*100,2)}) \\n\"\n",
    "           f\"Diana DeGette: {vote_count['Diana DeGette']} (%{round(vote_count['Diana DeGette']/total_number_of_votes*100,2)}) \\n\"\n",
    "           f\"Raymon Anthony Doane: {vote_count['Raymon Anthony Doane']} (%{round(vote_count['Raymon Anthony Doane']/total_number_of_votes*100,2)}) \\n\"\n",
    "           f\"------------------------- \\n\"\n",
    "           f\"Winner: {name}  \\n\"\n",
    "           f\"------------------------- \\n\")\n",
    "               \n",
    "    \n",
    "file.close()"
   ]
  },
  {
   "cell_type": "code",
   "execution_count": null,
   "metadata": {},
   "outputs": [],
   "source": []
  }
 ],
 "metadata": {
  "kernelspec": {
   "display_name": "Python 3",
   "language": "python",
   "name": "python3"
  },
  "language_info": {
   "codemirror_mode": {
    "name": "ipython",
    "version": 3
   },
   "file_extension": ".py",
   "mimetype": "text/x-python",
   "name": "python",
   "nbconvert_exporter": "python",
   "pygments_lexer": "ipython3",
   "version": "3.10.5"
  },
  "orig_nbformat": 4
 },
 "nbformat": 4,
 "nbformat_minor": 2
}
